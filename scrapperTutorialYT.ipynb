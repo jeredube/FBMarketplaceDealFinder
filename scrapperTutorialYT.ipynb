{
 "cells": [
  {
   "cell_type": "code",
   "execution_count": 14,
   "id": "6465654d",
   "metadata": {},
   "outputs": [],
   "source": [
    "from splinter import Browser\n",
    "from bs4 import BeautifulSoup as sp\n",
    "import re\n",
    "import pandas as pd\n",
    "import matplotlib.pyplot as ptl\n",
    "import time"
   ]
  },
  {
   "cell_type": "code",
   "execution_count": 15,
   "id": "4b81be59",
   "metadata": {},
   "outputs": [
    {
     "ename": "DriverNotFoundError",
     "evalue": "Driver for chrome was not found.",
     "output_type": "error",
     "traceback": [
      "\u001b[31m---------------------------------------------------------------------------\u001b[39m",
      "\u001b[31mDriverNotFoundError\u001b[39m                       Traceback (most recent call last)",
      "\u001b[36mCell\u001b[39m\u001b[36m \u001b[39m\u001b[32mIn[15]\u001b[39m\u001b[32m, line 1\u001b[39m\n\u001b[32m----> \u001b[39m\u001b[32m1\u001b[39m browser = \u001b[43mBrowser\u001b[49m\u001b[43m(\u001b[49m\u001b[33;43m'\u001b[39;49m\u001b[33;43mchrome\u001b[39;49m\u001b[33;43m'\u001b[39;49m\u001b[43m)\u001b[49m\n\u001b[32m      3\u001b[39m base_url = \u001b[33m\"\u001b[39m\u001b[33mhttps://www.facebook.com/marketplace/ottawa/search?query=\u001b[39m\u001b[33m\"\u001b[39m\n\u001b[32m      5\u001b[39m \u001b[38;5;66;03m# Search Criteria\u001b[39;00m\n",
      "\u001b[36mFile \u001b[39m\u001b[32m~/Desktop/PersonalProjects/FBMarketplaceDealFinder/.venv/lib/python3.12/site-packages/splinter/browser.py:128\u001b[39m, in \u001b[36mBrowser\u001b[39m\u001b[34m(driver_name, retry_count, config, *args, **kwargs)\u001b[39m\n\u001b[32m    125\u001b[39m     \u001b[38;5;28;01mraise\u001b[39;00m DriverNotFoundError(\u001b[33mf\u001b[39m\u001b[33m\"\u001b[39m\u001b[38;5;132;01m{\u001b[39;00mdriver_name\u001b[38;5;132;01m}\u001b[39;00m\u001b[33m is not a recognized driver.\u001b[39m\u001b[33m\"\u001b[39m)\n\u001b[32m    127\u001b[39m \u001b[38;5;28;01mif\u001b[39;00m driver \u001b[38;5;129;01mis\u001b[39;00m \u001b[38;5;28;01mNone\u001b[39;00m:\n\u001b[32m--> \u001b[39m\u001b[32m128\u001b[39m     \u001b[38;5;28;01mraise\u001b[39;00m DriverNotFoundError(\u001b[33mf\u001b[39m\u001b[33m\"\u001b[39m\u001b[33mDriver for \u001b[39m\u001b[38;5;132;01m{\u001b[39;00mdriver_name\u001b[38;5;132;01m}\u001b[39;00m\u001b[33m was not found.\u001b[39m\u001b[33m\"\u001b[39m)\n\u001b[32m    130\u001b[39m \u001b[38;5;28;01mreturn\u001b[39;00m get_driver(driver, retry_count=retry_count, config=config, *args, **kwargs)\n",
      "\u001b[31mDriverNotFoundError\u001b[39m: Driver for chrome was not found."
     ]
    }
   ],
   "source": [
    "browser = Browser('chrome')\n",
    "\n",
    "base_url = \"https://www.facebook.com/marketplace/ottawa/search?query=\"\n",
    "\n",
    "# Search Criteria\n",
    "itemSearched = \"gamingLaptop\"\n",
    "\n",
    "# Setup Full URL\n",
    "url = f\"{base_url}{itemSearched}\"\n",
    "print(url)"
   ]
  },
  {
   "cell_type": "code",
   "execution_count": null,
   "id": "5b779b02",
   "metadata": {},
   "outputs": [],
   "source": [
    "browser.visit(url)"
   ]
  }
 ],
 "metadata": {
  "kernelspec": {
   "display_name": ".venv",
   "language": "python",
   "name": "python3"
  },
  "language_info": {
   "codemirror_mode": {
    "name": "ipython",
    "version": 3
   },
   "file_extension": ".py",
   "mimetype": "text/x-python",
   "name": "python",
   "nbconvert_exporter": "python",
   "pygments_lexer": "ipython3",
   "version": "3.12.5"
  }
 },
 "nbformat": 4,
 "nbformat_minor": 5
}
